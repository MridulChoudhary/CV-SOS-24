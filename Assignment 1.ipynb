{
 "cells": [
  {
   "cell_type": "markdown",
   "id": "7352a184",
   "metadata": {},
   "source": [
    "# Tensors"
   ]
  },
  {
   "cell_type": "code",
   "execution_count": 15,
   "id": "d16e84b3-0641-46d4-95b9-28bb56f5729a",
   "metadata": {},
   "outputs": [],
   "source": [
    "import numpy as np\n",
    "import torch"
   ]
  },
  {
   "cell_type": "code",
   "execution_count": null,
   "id": "e8ca924a-d320-451a-9f4b-c1091116cf34",
   "metadata": {},
   "outputs": [],
   "source": [
    "torch.cuda.is_available()"
   ]
  },
  {
   "cell_type": "code",
   "execution_count": null,
   "id": "84db33da-632a-4c7b-82a6-55feba3f3f16",
   "metadata": {},
   "outputs": [],
   "source": [
    "torch.ones(3,4)"
   ]
  },
  {
   "cell_type": "code",
   "execution_count": null,
   "id": "9648b6ba",
   "metadata": {},
   "outputs": [],
   "source": [
    "matrix = torch.rand(2, 3)\n",
    "print(matrix)\n",
    "print(matrix.T)"
   ]
  },
  {
   "cell_type": "code",
   "execution_count": null,
   "id": "7546d72a",
   "metadata": {},
   "outputs": [],
   "source": [
    "row_1 = torch.arange(0, 12)\n",
    "row_2 = torch.tensor([0,1,2,3,4,5,6,7,8,9,10,11])          # Very important, remember it. \n",
    "print(row_1)\n",
    "print(row_2)\n",
    "\n",
    "arranged = row_1.view(3,4)\n",
    "print(arranged)\n"
   ]
  },
  {
   "cell_type": "markdown",
   "id": "5ec321fe",
   "metadata": {},
   "source": [
    "Another method to do the same is to concatenate three row tensors. "
   ]
  },
  {
   "cell_type": "code",
   "execution_count": null,
   "id": "661962cd",
   "metadata": {},
   "outputs": [],
   "source": [
    "matrix = torch.rand(4,4)\n",
    "print(matrix)\n",
    "\n",
    "for i in range(0,4):\n",
    "    for j in range(0,4):\n",
    "        if matrix[i][j] < 0.5:\n",
    "            matrix[i][j] = 0 \n",
    "print(\"  \")\n",
    "print(matrix)"
   ]
  },
  {
   "cell_type": "code",
   "execution_count": null,
   "id": "c93484f2",
   "metadata": {},
   "outputs": [],
   "source": [
    "tensor1 = torch.rand(2,3)\n",
    "tensor2 = torch.rand(2,3)\n",
    "\n",
    "cat_tensor = torch.cat((tensor1,tensor2), dim = 1)\n",
    "\n",
    "print(tensor1)\n",
    "print(\" \")\n",
    "print(tensor2)\n",
    "print(\" \")\n",
    "print(cat_tensor)"
   ]
  },
  {
   "cell_type": "code",
   "execution_count": null,
   "id": "57a35799",
   "metadata": {},
   "outputs": [],
   "source": [
    "tensor1 = torch.rand(2,3)\n",
    "tensor2 = torch.rand(2,3)\n",
    "\n",
    "# Method 1 \n",
    "tensor3 = tensor1 * tensor2\n",
    "\n",
    "\n",
    "# Method 2 \n",
    "tensor4 = torch.mul(tensor1,tensor2)\n",
    "\n",
    "print(tensor1)\n",
    "print(\" \")\n",
    "print(tensor2)\n",
    "print(\" \")\n",
    "print(tensor3)\n",
    "print(\" \")\n",
    "print(tensor4)"
   ]
  },
  {
   "cell_type": "code",
   "execution_count": null,
   "id": "b645c4cd",
   "metadata": {},
   "outputs": [],
   "source": [
    "tensor1 = torch.rand(2,3)\n",
    "tensor2 = torch.rand(3,4)\n",
    "\n",
    "tensor3 = torch.matmul(tensor1,tensor2)\n",
    "\n",
    "print(tensor1)\n",
    "print(' ')\n",
    "print(tensor2)\n",
    "print(\" \")\n",
    "print(tensor3)\n"
   ]
  },
  {
   "cell_type": "code",
   "execution_count": null,
   "id": "e24e15cc",
   "metadata": {},
   "outputs": [],
   "source": [
    "tensor = torch.rand(3,4)\n",
    "\n",
    "mean = torch.mean(tensor)\n",
    "std1 = torch.std(tensor)\n",
    "std2 = torch.std(tensor, unbiased=True) \n",
    "\n",
    "print(tensor)\n",
    "print(\" \")\n",
    "print(f\"Mean : {mean}\")\n",
    "print(f\"STD1 : {std1}\")\n",
    "print(f\"STD2 : {std2}\")"
   ]
  },
  {
   "cell_type": "markdown",
   "id": "00ebe4ee",
   "metadata": {},
   "source": [
    "Why doesn't the above Unbiased = True have any effect on the second output? "
   ]
  },
  {
   "cell_type": "markdown",
   "id": "6a68c28b",
   "metadata": {},
   "source": [
    "# Autograd"
   ]
  },
  {
   "cell_type": "code",
   "execution_count": null,
   "id": "2fe9a564",
   "metadata": {},
   "outputs": [],
   "source": [
    "m = torch.rand(1, requires_grad=True, dtype=torch.float64)\n",
    "print(m)\n",
    "\n",
    "output = 11*m + 24\n",
    "\n",
    "print(\" \")\n",
    "print(output)\n",
    "\n",
    "output.backward()\n",
    "m.grad"
   ]
  },
  {
   "cell_type": "code",
   "execution_count": null,
   "id": "c0346b91",
   "metadata": {},
   "outputs": [],
   "source": [
    "x = torch.tensor(2, requires_grad=True, dtype=torch.float64)\n",
    "f = x**2 + 3*x + 2\n",
    "f.backward()\n",
    "x.grad"
   ]
  },
  {
   "cell_type": "code",
   "execution_count": null,
   "id": "88b13948",
   "metadata": {},
   "outputs": [],
   "source": [
    "m1 = torch.rand(4,4, requires_grad=True)\n",
    "m2 = torch.rand(4,4, requires_grad=True)\n",
    "\n",
    "m3 = torch.sum(torch.mul(m1,m2))\n",
    "\n",
    "print(m1)\n",
    "print(m2)\n",
    "print(m3)\n",
    "\n",
    "m3.backward()\n",
    "print(\" \")\n",
    "print(m1.grad)\n",
    "print(\" \")\n",
    "print(m2.grad) "
   ]
  },
  {
   "cell_type": "code",
   "execution_count": null,
   "id": "ff604bb9",
   "metadata": {},
   "outputs": [],
   "source": [
    "x = torch.tensor(1, requires_grad=True ,dtype=torch.float64)\n",
    "y = torch.tensor(2, requires_grad=True ,dtype=torch.float64)\n",
    "\n",
    "f = (x**2)*y + y**3\n",
    "\n",
    "f.backward()\n",
    "\n",
    "print(x.grad)\n",
    "print(\" \")\n",
    "print(y.grad)"
   ]
  },
  {
   "cell_type": "code",
   "execution_count": null,
   "id": "b0a83a6d",
   "metadata": {},
   "outputs": [],
   "source": [
    "m = torch.rand(1, requires_grad=True)\n",
    "\n",
    "norm = torch.linalg.norm(m)\n",
    "\n",
    "print(f\"Norm : {norm}\")\n",
    "norm.backward()\n",
    "print(f\"Grad : {m.grad}\")"
   ]
  },
  {
   "cell_type": "markdown",
   "id": "ff349301",
   "metadata": {},
   "source": [
    "Why does the grad of a norm equal 1?"
   ]
  },
  {
   "cell_type": "code",
   "execution_count": null,
   "id": "40f3a6dd",
   "metadata": {},
   "outputs": [],
   "source": [
    "x = torch.tensor(1.0 , requires_grad=True)\n",
    "y = torch.tensor(2.0 , requires_grad=True)\n",
    "z = torch.tensor(3.0 , requires_grad=True)\n",
    "\n",
    "f = x**2 + y**2 + z**2\n",
    "\n",
    "f.backward()\n",
    "\n",
    "print(x.grad)\n",
    "print(y.grad)\n",
    "print(z.grad)"
   ]
  },
  {
   "cell_type": "markdown",
   "id": "86680ade",
   "metadata": {},
   "source": [
    "# Dataset Class"
   ]
  },
  {
   "cell_type": "code",
   "execution_count": null,
   "id": "bd967cb8",
   "metadata": {},
   "outputs": [],
   "source": []
  }
 ],
 "metadata": {
  "kernelspec": {
   "display_name": "Python 3 (ipykernel)",
   "language": "python",
   "name": "python3"
  },
  "language_info": {
   "codemirror_mode": {
    "name": "ipython",
    "version": 3
   },
   "file_extension": ".py",
   "mimetype": "text/x-python",
   "name": "python",
   "nbconvert_exporter": "python",
   "pygments_lexer": "ipython3",
   "version": "3.12.3"
  }
 },
 "nbformat": 4,
 "nbformat_minor": 5
}
